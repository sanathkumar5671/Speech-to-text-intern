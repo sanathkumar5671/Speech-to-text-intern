{
 "cells": [
  {
   "cell_type": "markdown",
   "id": "e3ca43b0",
   "metadata": {},
   "source": [
    "# Google Cloud/Google Transcribe - Transform of Data"
   ]
  },
  {
   "cell_type": "markdown",
   "id": "aec4f33f",
   "metadata": {},
   "source": [
    "From the Notes: Google Cloud is to be used to store these audio files, perform the transcription and to store the transcribed audio text files."
   ]
  },
  {
   "cell_type": "code",
   "execution_count": 1,
   "id": "4b97fa55",
   "metadata": {},
   "outputs": [],
   "source": [
    "import os\n",
    "from google.cloud import speech\n",
    "from pprint import pprint\n",
    "from google.cloud import storage"
   ]
  },
  {
   "cell_type": "code",
   "execution_count": 3,
   "id": "3e7ee0b4",
   "metadata": {},
   "outputs": [],
   "source": [
    "#Autentication of the google cloud and using speech to text api\n",
    "\n",
    "os.environ['GOOGLE_APPLICATION_CREDENTIALS'] = 'quixotic-market-336912-6b21a70f2be9.json'\n",
    "speech_client = speech.SpeechClient()"
   ]
  },
  {
   "cell_type": "markdown",
   "id": "b3c927e0",
   "metadata": {},
   "source": [
    "# .mp3 audio file"
   ]
  },
  {
   "cell_type": "code",
   "execution_count": 6,
   "id": "22fac567",
   "metadata": {},
   "outputs": [],
   "source": [
    "media_uri = 'gs://speechtotextmediafiles5671/Sample.mp3'\n",
    "audio = speech.RecognitionAudio(uri=media_uri)\n",
    "\n",
    "config_mp3 = speech.RecognitionConfig(\n",
    "    sample_rate_hertz=48000,\n",
    "    enable_automatic_punctuation=True,\n",
    "    language_code='en-US'\n",
    ")\n",
    "\n",
    "operation = speech_client.long_running_recognize(config=config_mp3, audio=audio)\n",
    "\n",
    "    "
   ]
  },
  {
   "cell_type": "code",
   "execution_count": 7,
   "id": "2a414cad",
   "metadata": {},
   "outputs": [
    {
     "name": "stdout",
     "output_type": "stream",
     "text": [
      "Waiting for operation to complete...\n",
      "Transcript: Greta, your first climate strike with a lonely event, a little over a year ago. And in the intervening time, you have sparked the interest of millions, literally of children around the globe. Demand action for climate change. What's your message to world leaders today?\n",
      "Confidence: 0.9612554907798767\n",
      "Transcript:  My message is that we'll be watching you.\n",
      "Confidence: 0.9750859141349792\n",
      "Transcript:  This is all wrong.\n",
      "Confidence: 0.944582462310791\n",
      "Transcript:  I shouldn't be up here. I should be back in school on the other side of the ocean.\n",
      "Confidence: 0.9863925576210022\n",
      "Transcript:  You all come to us. Young people for Hope. How dare you?\n",
      "Confidence: 0.9176156520843506\n",
      "Transcript:  You have stolen my dreams and my childhood with your empty words. And yet I'm one of the lucky ones.\n",
      "Confidence: 0.9776087999343872\n",
      "Transcript:  People are suffering. People are dying. Entire ecosystems are collapsing. We are in the beginning of a mass extinction and all you can talk about is money and fairy tales of economic growth.\n",
      "Confidence: 0.9862939119338989\n",
      "Transcript:  For more than 30 years. The science has been crystal clear.\n",
      "Confidence: 0.9741681814193726\n",
      "Transcript:  How dare you continue to look away?\n",
      "Confidence: 0.9839057326316833\n",
      "Transcript:  And come here saying that you are doing enough, when the politics and solutions needed a steel nowhere in sight.\n",
      "Confidence: 0.8734310269355774\n",
      "Transcript:  You said, you can hear us and that you understand the urgency.\n",
      "Confidence: 0.8934947848320007\n",
      "Transcript:  No matter how sad and angry. I am, I do not want to believe that because if you really understood the situation and still kept on failing to pack that you would be evil and that I refuse to believe.\n",
      "Confidence: 0.9513384699821472\n",
      "Transcript:  The popular idea of cutting our emissions in half in 10 years, only gives us a 50% chance of staying below 1.5 degrees and the risk of setting of irreversible chain reactions, Beyond human control.\n",
      "Confidence: 0.9641761779785156\n",
      "Transcript:  50% may be acceptable to you.\n",
      "Confidence: 0.9308505654335022\n",
      "Transcript:  But those numbers do not include tipping points. Most feedback loops additional woman hidden by toxic air pollution, all the aspects of equity and climate Justice. The also rely on my generation talking, hundreds of billions of tons of your CO2, out of the air with technologies that barely exist.\n",
      "Confidence: 0.9115915894508362\n",
      "Transcript:  50% risk is simply not acceptable to us. We who have to live with the consequences.\n",
      "Confidence: 0.8844113945960999\n",
      "Transcript:  Do you have a 67% chance of staying below it 1.5 degrees of global temperature rise, the best odds given by the ipcc. The world had 420 gigatons of CO2 left to image back on January 1st, 2018.\n",
      "Confidence: 0.9015734791755676\n",
      "Transcript:  Today, that figure is already down to less than 350 gigaton.\n",
      "Confidence: 0.934992790222168\n",
      "Transcript:  How dare you pretend that this can be sold with just business as usual and some Technical Solutions?\n",
      "Confidence: 0.9673453569412231\n",
      "Transcript:  With today's emissions levels that remaining CO2, budget will be entirely gone within less than eight and a half years.\n",
      "Confidence: 0.9221702814102173\n",
      "Transcript:  They will not be any solutions or plans presented in line with these figures here today because these numbers are too uncomfortable and you are still not mature enough to tell it like it is.\n",
      "Confidence: 0.9341194033622742\n",
      "Transcript:  You are failing us.\n",
      "Confidence: 0.9876290559768677\n",
      "Transcript:  But the young people are starting to understand that your betrayal.\n",
      "Confidence: 0.8136692047119141\n",
      "Transcript:  The eyes of all future Generations are upon you.\n",
      "Confidence: 0.9623677134513855\n",
      "Transcript:  And if you choose to fail us, I say we will never forgive you.\n",
      "Confidence: 0.9860756993293762\n",
      "Transcript:  We will not let you get away with this right here, right now is where we draw the line.\n",
      "Confidence: 0.972787082195282\n",
      "Transcript:  The world is waking up.\n",
      "Confidence: 0.9817364811897278\n",
      "Transcript:  And change is coming whether you like it or not. Thank you.\n",
      "Confidence: 0.9675390124320984\n"
     ]
    }
   ],
   "source": [
    "print(\"Waiting for operation to complete...\")\n",
    "response_mp3 = operation.result(timeout=90)\n",
    "\n",
    "# Each result is for a consecutive portion of the audio. Iterate through\n",
    "# them to get the transcripts for the entire audio file.\n",
    "for result in response_mp3.results:\n",
    "    # The first alternative is the most likely one for this portion.\n",
    "    print(u\"Transcript: {}\".format(result.alternatives[0].transcript))\n",
    "    print(\"Confidence: {}\".format(result.alternatives[0].confidence))"
   ]
  },
  {
   "cell_type": "code",
   "execution_count": 24,
   "id": "c5fa036a",
   "metadata": {},
   "outputs": [
    {
     "data": {
      "text/plain": [
       "<function TextIOWrapper.close()>"
      ]
     },
     "execution_count": 24,
     "metadata": {},
     "output_type": "execute_result"
    }
   ],
   "source": [
    "#storing the transcribe data into a text file \n",
    "f = open(\"mp3.txt\", mode = \"w\")\n",
    "with open(\"mp3.txt\",\"w\") as file:\n",
    "    for result in response_mp3.results:\n",
    "        file.write(result.alternatives[0].transcript)\n",
    "    \n",
    "f.close"
   ]
  },
  {
   "cell_type": "markdown",
   "id": "5f0c998d",
   "metadata": {},
   "source": [
    "# .WAV audio file"
   ]
  },
  {
   "cell_type": "code",
   "execution_count": 10,
   "id": "bf54ce1c",
   "metadata": {},
   "outputs": [],
   "source": [
    "gcs_uri = 'gs://speechtotextmediafiles5671/wav_sample.wav'\n",
    "audio = speech.RecognitionAudio(uri=gcs_uri)\n",
    "config_wav_enhanced = speech.RecognitionConfig(\n",
    "    sample_rate_hertz=48000,\n",
    "    enable_automatic_punctuation=True,\n",
    "    language_code='en-US',\n",
    "    use_enhanced=True,\n",
    "    model='video',\n",
    "    audio_channel_count = 2,\n",
    ")\n",
    "operation = speech_client.long_running_recognize(config=config_wav_enhanced, audio=audio)\n",
    "\n",
    "   "
   ]
  },
  {
   "cell_type": "code",
   "execution_count": 11,
   "id": "dd2b7b7f",
   "metadata": {},
   "outputs": [
    {
     "name": "stdout",
     "output_type": "stream",
     "text": [
      "Waiting for operation to complete...\n",
      "Transcript: Scotland full of so much better attitude right now. And I do not feel elevated above any of my fellow nominees or anyone in this room because we share the same love that the love of film and this form of expression has given me the most extraordinary life. I don't know what I'd be without it. But I think the greatest gift that it's given me, and many of us in this room, is the opportunity to use our voice for the voiceless.\n",
      "Confidence: 0.9128300547599792\n",
      "Transcript:  I'm thinking a lot about some of the distressing issues that we are facing collectively and I think, at times we feel or were made to feel that we Champion different causes, but for me, I see commonality. I think whether we're talking about gender inequality, or racism or queer rights or indigenous rights or animal rights were talking about the fight against Injustice. We're talking about the fight against the belief that one nation.\n",
      "Confidence: 0.8823195099830627\n",
      "Transcript:  One people, one, race, one, gender or one species has the right to dominate control and use and exploit another with impunity. I think that we've become very disconnected from the natural world and many of us. What were guilty of is an egocentric worldview? The belief that were the center of the universe. We go into the natural world and we plunger it for its resources. We feel entitled to artificially inseminate a cow and when she gives birth\n",
      "Confidence: 0.8746298551559448\n",
      "Transcript:  Both, we steal her baby, even though her cries of Anguish unmistakable. And then we take her milk that's intended for a calf. And we put it in our coffee and our cereal, We Fear the idea of personal change because we think that we have to sacrifice something to give something up, but human beings that are best are so inventive and creative and ingenious. And I think that when we use love and compassion, as our guiding principles, we can create develop and\n",
      "Confidence: 0.8911449909210205\n",
      "Transcript:  Element systems of change that are beneficial to all sentient beings. And to the environment. I've been a scoundrel in my life. I've been selfish. I've been cruel at times hard to work with and ungrateful. But so many of you in this room have given me a second chance and I think that's when we're at our best when we support each other, not, when we cancel each other out for past mistakes, but when we help each other to grow, when we educate each other, when we died,\n",
      "Confidence: 0.9037215113639832\n",
      "Transcript:  Each other towards Redemption that is the best of humanity.\n",
      "Confidence: 0.8614550828933716\n",
      "Transcript:  We were 17, my brother wrote this lyric. He said run to the rescue with love and peace will follow. Thank you.\n",
      "Confidence: 0.9128385782241821\n",
      "Transcript: \n",
      "Confidence: 0.0\n",
      "Transcript: \n",
      "Confidence: 0.0\n"
     ]
    }
   ],
   "source": [
    "print(\"Waiting for operation to complete...\")\n",
    "response = operation.result(timeout=90)\n",
    "# Each result is for a consecutive portion of the audio. Iterate through\n",
    "# them to get the transcripts for the entire audio file.\n",
    "for result in response.results:\n",
    "    # The first alternative is the most likely one for this portion.\n",
    "    print(u\"Transcript: {}\".format(result.alternatives[0].transcript))\n",
    "    print(\"Confidence: {}\".format(result.alternatives[0].confidence))"
   ]
  },
  {
   "cell_type": "code",
   "execution_count": 23,
   "id": "41189ae0",
   "metadata": {},
   "outputs": [
    {
     "data": {
      "text/plain": [
       "<function TextIOWrapper.close()>"
      ]
     },
     "execution_count": 23,
     "metadata": {},
     "output_type": "execute_result"
    }
   ],
   "source": [
    "#storing the transcribe data into a text file \n",
    "\n",
    "f = open(\"wav.txt\", mode = \"w\")\n",
    "with open(\"wav.txt\",\"w\") as file:\n",
    "    for result in response.results:\n",
    "        file.write(result.alternatives[0].transcript)\n",
    "    \n",
    "f.close"
   ]
  },
  {
   "cell_type": "markdown",
   "id": "5027b02c",
   "metadata": {},
   "source": [
    "# STEP 3: UPLOADING THE FILES TO A BUCKET IN GOOGLE CLOUD STORAGE"
   ]
  },
  {
   "cell_type": "code",
   "execution_count": 5,
   "id": "a241058e",
   "metadata": {},
   "outputs": [
    {
     "name": "stderr",
     "output_type": "stream",
     "text": [
      "C:\\Users\\kumar\\AppData\\Local\\Temp/ipykernel_10596/2512678783.py:8: DeprecationWarning: Assignment to 'Bucket.location' is deprecated, as it is only valid before the bucket is created. Instead, pass the location to `Bucket.create`.\n",
      "  bucket.location = 'Asia'\n"
     ]
    },
    {
     "name": "stdout",
     "output_type": "stream",
     "text": [
      "{'_acl': <google.cloud.storage.acl.BucketACL object at 0x000001A78FC8E250>,\n",
      " '_changes': set(),\n",
      " '_client': <google.cloud.storage.client.Client object at 0x000001A7918D7A00>,\n",
      " '_default_object_acl': <google.cloud.storage.acl.DefaultObjectACL object at 0x000001A7918D79A0>,\n",
      " '_label_removals': set(),\n",
      " '_properties': {'etag': 'CAE=',\n",
      "                 'iamConfiguration': {'bucketPolicyOnly': {'enabled': False},\n",
      "                                      'publicAccessPrevention': 'inherited',\n",
      "                                      'uniformBucketLevelAccess': {'enabled': False}},\n",
      "                 'id': 'audio_text_files',\n",
      "                 'kind': 'storage#bucket',\n",
      "                 'location': 'ASIA',\n",
      "                 'locationType': 'multi-region',\n",
      "                 'metageneration': '1',\n",
      "                 'name': 'audio_text_files',\n",
      "                 'projectNumber': '887042568937',\n",
      "                 'rpo': 'DEFAULT',\n",
      "                 'selfLink': 'https://www.googleapis.com/storage/v1/b/audio_text_files',\n",
      "                 'storageClass': 'STANDARD',\n",
      "                 'timeCreated': '2022-01-02T03:02:47.059Z',\n",
      "                 'updated': '2022-01-02T03:02:47.059Z'},\n",
      " '_user_project': None,\n",
      " 'name': 'audio_text_files'}\n"
     ]
    },
    {
     "data": {
      "text/plain": [
       "'2022-01-02T03:02:47.059Z'"
      ]
     },
     "execution_count": 5,
     "metadata": {},
     "output_type": "execute_result"
    }
   ],
   "source": [
    "#CREATING A BUCKET\n",
    "storage_client = storage.Client()\n",
    "\n",
    "bucket_name = 'audio_text_files'\n",
    "\n",
    "# create a new bucket\n",
    "bucket = storage_client.bucket(bucket_name)\n",
    "bucket.location = 'Asia'\n",
    "bucket = storage_client.create_bucket(bucket) # returns Bucket object\n",
    "\n",
    "pprint(vars(bucket))\n",
    "\n",
    "bucket.name\n",
    "bucket._properties['selfLink']\n",
    "bucket._properties['id']\n",
    "bucket._properties['location']\n",
    "bucket._properties['timeCreated']\n",
    "bucket._properties['storageClass']\n",
    "bucket._properties['timeCreated']\n",
    "bucket._properties['updated']\n"
   ]
  },
  {
   "cell_type": "code",
   "execution_count": 6,
   "id": "55de643d",
   "metadata": {},
   "outputs": [
    {
     "name": "stdout",
     "output_type": "stream",
     "text": [
      "{'_acl': <google.cloud.storage.acl.BucketACL object at 0x000001A79179EE80>,\n",
      " '_changes': set(),\n",
      " '_client': <google.cloud.storage.client.Client object at 0x000001A7918D7A00>,\n",
      " '_default_object_acl': <google.cloud.storage.acl.DefaultObjectACL object at 0x000001A79179E550>,\n",
      " '_label_removals': set(),\n",
      " '_properties': {'etag': 'CAE=',\n",
      "                 'iamConfiguration': {'bucketPolicyOnly': {'enabled': False},\n",
      "                                      'publicAccessPrevention': 'inherited',\n",
      "                                      'uniformBucketLevelAccess': {'enabled': False}},\n",
      "                 'id': 'audio_text_files',\n",
      "                 'kind': 'storage#bucket',\n",
      "                 'location': 'ASIA',\n",
      "                 'locationType': 'multi-region',\n",
      "                 'metageneration': '1',\n",
      "                 'name': 'audio_text_files',\n",
      "                 'projectNumber': '887042568937',\n",
      "                 'rpo': 'DEFAULT',\n",
      "                 'selfLink': 'https://www.googleapis.com/storage/v1/b/audio_text_files',\n",
      "                 'storageClass': 'STANDARD',\n",
      "                 'timeCreated': '2022-01-02T03:02:47.059Z',\n",
      "                 'updated': '2022-01-02T03:02:47.059Z'},\n",
      " '_user_project': None,\n",
      " 'name': 'audio_text_files'}\n"
     ]
    }
   ],
   "source": [
    "#Get Bucket\n",
    "my_bucket = storage_client.get_bucket(bucket_name)\n",
    "pprint(vars(my_bucket))"
   ]
  },
  {
   "cell_type": "code",
   "execution_count": 7,
   "id": "1c42d0cc",
   "metadata": {},
   "outputs": [],
   "source": [
    "#uploading the file to the bucket\n",
    "def upload_to_bucket(blob_name, file_path, bucket_name):\n",
    "    '''\n",
    "    Upload file to a bucket\n",
    "    : blob_name  (str) - object name\n",
    "    : file_path (str)\n",
    "    : bucket_name (str)\n",
    "    '''\n",
    "    bucket = storage_client.get_bucket(bucket_name)\n",
    "    blob = bucket.blob(blob_name)\n",
    "    blob.upload_from_filename(file_path)\n",
    "    return blob\n"
   ]
  },
  {
   "cell_type": "code",
   "execution_count": 8,
   "id": "21360a8c",
   "metadata": {},
   "outputs": [],
   "source": [
    "response = upload_to_bucket('mp3_audio_text_file', 'mp3.txt', bucket_name)\n",
    "response = upload_to_bucket('wav_audio_text_file', 'wav.txt', bucket_name)"
   ]
  },
  {
   "cell_type": "code",
   "execution_count": null,
   "id": "b81f169e",
   "metadata": {},
   "outputs": [],
   "source": []
  }
 ],
 "metadata": {
  "kernelspec": {
   "display_name": "Python 3 (ipykernel)",
   "language": "python",
   "name": "python3"
  },
  "language_info": {
   "codemirror_mode": {
    "name": "ipython",
    "version": 3
   },
   "file_extension": ".py",
   "mimetype": "text/x-python",
   "name": "python",
   "nbconvert_exporter": "python",
   "pygments_lexer": "ipython3",
   "version": "3.8.10"
  }
 },
 "nbformat": 4,
 "nbformat_minor": 5
}
